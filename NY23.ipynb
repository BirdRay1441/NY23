{
  "nbformat": 4,
  "nbformat_minor": 0,
  "metadata": {
    "colab": {
      "provenance": [],
      "toc_visible": true
    },
    "kernelspec": {
      "name": "python3",
      "display_name": "Python 3"
    },
    "language_info": {
      "name": "python"
    }
  },
  "cells": [
    {
      "cell_type": "code",
      "source": [
        "class Emoji():\n",
        "  def __init__(self):\n",
        "    self.__height = None\n",
        "    self.__width = None\n",
        "    self.__author = None\n",
        "    self.__download = None\n",
        "  def set_height(self, height):\n",
        "    self.__height = height\n",
        "  def get_height(self):\n",
        "    return(self.__height)\n",
        "  def set_width(self, width):\n",
        "    self.__width = width\n",
        "  def get_width(self):\n",
        "    return(self.__width)\n",
        "  def set_author(self, author):\n",
        "    self.__author = author\n",
        "  def get_author(self):\n",
        "    return(self.__author)\n",
        "  def set_download(self, download):\n",
        "    self.__download = download\n",
        "  def get_download(self):\n",
        "    return(self.__download)\n",
        "  def print(self):\n",
        "    print(f'Высота: {self.__height}px\\nШирина: {self.__width}px\\nАвтор: {self.__author}\\nКоличество скачиваний: {self.__download}')\n",
        "\n",
        "class E7tv(Emoji):\n",
        "  def __init__(self):\n",
        "    super().__init__()\n",
        "    self.__modify = None\n",
        "    self.__tags = None\n",
        "  def set_modify(self, modify):\n",
        "    self.__modify = modify\n",
        "  def get_modify(self):\n",
        "    return(self.__modify)\n",
        "  def set_tags(self, tags):\n",
        "    self.__tags = tags\n",
        "  def get_tags(self):\n",
        "    return(self.__tags)\n",
        "  def print(self):\n",
        "    super().print()\n",
        "    print(f'Модификаторы: {self.__modify}\\nТеги: {self.__tags}')"
      ],
      "metadata": {
        "id": "rZZfpu2eSF9Y"
      },
      "execution_count": 34,
      "outputs": []
    },
    {
      "cell_type": "code",
      "source": [
        "peepoLost = Emoji()\n",
        "peepoLost.set_height(40)\n",
        "peepoLost.set_width(80)\n",
        "peepoLost.set_author('LinDa64')\n",
        "peepoLost.set_download(1243862)\n",
        "peepoLost.print()\n",
        "\n",
        "snowTime = E7tv()\n",
        "snowTime.set_height(40)\n",
        "snowTime.set_width(40)\n",
        "snowTime.set_author('LinDa64')\n",
        "snowTime.set_download(183452)\n",
        "snowTime.set_modify('Zero-width')\n",
        "snowTime.set_tags(['#snow','#christmas'])\n",
        "snowTime.print();"
      ],
      "metadata": {
        "colab": {
          "base_uri": "https://localhost:8080/"
        },
        "id": "L8ZdBDkMSg_b",
        "outputId": "6103f8fd-70c7-4252-be5b-6bcc1f75e376"
      },
      "execution_count": 36,
      "outputs": [
        {
          "output_type": "stream",
          "name": "stdout",
          "text": [
            "Высота: 40px\n",
            "Ширина: 80px\n",
            "Автор: LinDa64\n",
            "Количество скачиваний: 1243862\n",
            "Высота: 40px\n",
            "Ширина: 40px\n",
            "Автор: LinDa64\n",
            "Количество скачиваний: 183452\n",
            "Модификаторы: Zero-width\n",
            "Теги: ['#snow', '#christmas']\n"
          ]
        }
      ]
    }
  ]
}